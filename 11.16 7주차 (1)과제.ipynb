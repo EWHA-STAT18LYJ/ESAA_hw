{
 "cells": [
  {
   "cell_type": "markdown",
   "metadata": {},
   "source": [
    "1. CH08-연습문제 1번\n",
    "\n",
    " **데이터셋의 차원을 축소하는 주요 목적은 무엇인가요? 대표적인 단점은 무엇인가요?**\n",
    "> 데이터 학습을 위해 차원이 증가하면, 학습데이터 수가 차원의 수보다 적어져서 성능이 저하된다. 이 경우 예측을 위해 훨씬 많은 외삽을 해야 하기 때문에 저차원일 때보다 예측이 더 불안정하여 과대적합을 유발할 수 있다. 이러한 점을 해결하기 위해 데이터셋의 차원을 축소한다. \n",
    "그러나, 데이터셋의 유형이 다양하기 때문에 이 해결방법은 항상 '모든' 데이터셋에 적합한 솔루션이 될 수는 없다.\n",
    "\n",
    "2. CH08-연습문제 7번\n",
    "\n",
    " **어떤 데이터셋에 적용한 차원 축소 알고리즘의 성능을 어떻게 평가할 수 있을까요?**\n",
    "> 너무 많은 정보를 잃지 않고 차원을 많이 제거할 수 있다면, 차원축소 알고리즘이 잘 작동한 것이다. 이를 평가할 수 있는 방법은 역변환을 통해 재구성 오차를 측정하는 것이다. 그러나 모든 차원 축소 알고리즘이 역변환을 제공하는 것은 아니다.\n",
    "만약 차원 축소를 다른 머신러닝 알고리즘을 적용하기 전에 전처리 단계로 사용한다면 두 번째 알고리즘의 성능을 측정해볼 수 있다.\n",
    "    \n",
    "3. CH09-연습문제 3번\n",
    "\n",
    " **k-평균을 사용할 때 적절한 클러스터 개수를 선택할 수 있는 두 가지 기법을 설명하세요.**\n",
    "> 1) 엘보 규칙 사용\n",
    ">    : 클러스터 개수의 함수로 각 샘플과 인접한 센트로이드 사이의 평균 제곱거리인 이너셔를 그리고 그래프에서 이너셔가 더이상 빠르게 감소하지 않는 지점인 엘보를 찾는다. 일반적으로 이 지점이 최적의 클러스터 개수에 가깝다. \n",
    "> 2) 실루엣 점수를 그래프로 그림(클러스터 개수의 함수)\n",
    ">    : 그래프에 뾰족하게 올라간 지점이 나타나면 일반적으로 이 근처가 최적의 클러스터 개수이다. 실루엣 점수는 모든 샘플에 대한 평균 실루엣 계수이다. 샘플이 자신의 클러스터 안에 잘 속해 있고 다른 클러스터와 멀리 떨어져 있으면 +1에 가깝고 다른 클러스터에 매우 인접해 있으면 -1에 가까워진다."
   ]
  },
  {
   "cell_type": "code",
   "execution_count": null,
   "metadata": {},
   "outputs": [],
   "source": []
  },
  {
   "cell_type": "code",
   "execution_count": null,
   "metadata": {},
   "outputs": [],
   "source": []
  },
  {
   "cell_type": "code",
   "execution_count": null,
   "metadata": {},
   "outputs": [],
   "source": []
  },
  {
   "cell_type": "code",
   "execution_count": null,
   "metadata": {},
   "outputs": [],
   "source": []
  },
  {
   "cell_type": "code",
   "execution_count": null,
   "metadata": {},
   "outputs": [],
   "source": []
  },
  {
   "cell_type": "code",
   "execution_count": null,
   "metadata": {},
   "outputs": [],
   "source": []
  },
  {
   "cell_type": "code",
   "execution_count": null,
   "metadata": {},
   "outputs": [],
   "source": []
  }
 ],
 "metadata": {
  "kernelspec": {
   "display_name": "test",
   "language": "python",
   "name": "test"
  },
  "language_info": {
   "codemirror_mode": {
    "name": "ipython",
    "version": 3
   },
   "file_extension": ".py",
   "mimetype": "text/x-python",
   "name": "python",
   "nbconvert_exporter": "python",
   "pygments_lexer": "ipython3",
   "version": "3.7.9"
  }
 },
 "nbformat": 4,
 "nbformat_minor": 4
}
